{
 "cells": [
  {
   "cell_type": "code",
   "execution_count": 2,
   "metadata": {},
   "outputs": [],
   "source": [
    "import tensorflow as tf\n",
    "import numpy as np\n",
    "import pandas as pd\n",
    "import cv2\n",
    "import matplotlib.pyplot as plt"
   ]
  },
  {
   "cell_type": "code",
   "execution_count": 4,
   "metadata": {},
   "outputs": [
    {
     "data": {
      "image/png": "[encoded data removed]",
      "text/plain": [
       "<Figure size 432x288 with 1 Axes>"
      ]
     },
     "metadata": {
      "needs_background": "light"
     },
     "output_type": "display_data"
    },
    {
     "data": {
      "image/png": "[encoded data removed]",
      "text/plain": [
       "<Figure size 432x288 with 1 Axes>"
      ]
     },
     "metadata": {
      "needs_background": "light"
     },
     "output_type": "display_data"
    }
   ],
   "source": [
    "#加载数据\n",
    "data = pd.read_csv('train.csv')\n",
    "x = data.loc[:,data.columns != 'label'].values.astype(np.float32)\n",
    "y = data['label'].values\n",
    "x = x / 255.0\n",
    "data = tf.data.Dataset.from_tensor_slices((x,y))\n",
    "data_loader = data.repeat().shuffle(5000).batch(128).prefetch(1)\n",
    "#熟悉数据\n",
    "for i in range(2):    \n",
    "    plt.imshow(np.reshape(x[i],[28,28]),cmap=\"gray\")\n",
    "    plt.show()"
   ]
  },
  {
   "cell_type": "code",
   "execution_count": 9,
   "metadata": {},
   "outputs": [],
   "source": [
    "#构造模型\n",
    "\n",
    "class network(tf.keras.Model):\n",
    "    def __init__(self):\n",
    "        super(network, self).__init__()\n",
    "        self.conv1 = tf.keras.layers.Conv2D(32,kernel_size=5,activation=tf.nn.relu)\n",
    "        self.maxpool1 =tf.keras.layers.MaxPool2D(2,strides=2)\n",
    "\n",
    "        self.conv2 = tf.keras.layers.Conv2D(64,kernel_size=3,activation=tf.nn.relu)\n",
    "        self.maxpool2 = tf.keras.layers.MaxPool2D(2,strides=2)\n",
    "\n",
    "        self.flatten = tf.keras.layers.Flatten()\n",
    "        self.fc1 = tf.keras.layers.Dense(1024)\n",
    "        self.dropout = tf.keras.layers.Dropout(rate=0.5)\n",
    "        self.out = tf.keras.layers.Dense(10)\n",
    "\n",
    "    def call(self,x,is_training=False):\n",
    "        x = tf.reshape(x,[-1,28,28,1])\n",
    "        x = self.conv1(x)\n",
    "        x = self.maxpool1(x)\n",
    "        x = self.conv2(x)\n",
    "        x = self.maxpool2(x)\n",
    "        x = self.flatten(x)\n",
    "        x = self.fc1(x)\n",
    "        x = self.dropout(x)\n",
    "        x = self.out(x)\n",
    "        if not is_training:\n",
    "            x = tf.nn.softmax(x)\n",
    "        return x\n",
    "conv = network()"
   ]
  },
  {
   "cell_type": "code",
   "execution_count": null,
   "metadata": {},
   "outputs": [],
   "source": [
    "#训练\n",
    "def cross_entropy_loss(x,y):   #定义损失函数\n",
    "    y = tf.cast(y,tf.int64)\n",
    "    loss = tf.nn.sparse_softmax_cross_entropy_with_logits(labels=y,logits=x)\n",
    "    return tf.reduce_mean(loss)\n",
    "\n",
    "def accuracy(y_pred,y_true):    #计算模型精度\n",
    "    correct_pred = tf.equal(tf.argmax(y_pred,1),tf.cast(y_true,tf.int64))\n",
    "    return tf.reduce_mean(tf.cast(correct_pred,tf.float32))\n",
    "\n",
    "optimizer = tf.optimizers.SGD(0.01)\n",
    "\n",
    "def run_optimizer(x,y):    #训练\n",
    "    with tf.GradientTape() as g:\n",
    "        pred = conv(x,is_training=True)\n",
    "        loss = cross_entropy_loss(pred,y)\n",
    "    training_variable = conv.trainable_variables\n",
    "    gradient = g.gradient(loss,training_variable)\n",
    "    optimizer.apply_gradients(zip(gradient,training_variable))\n",
    "\n",
    "for i,(x_batch,y_batch) in enumerate(data_loader.take(1000),1):    #训练\n",
    "    run_optimizer(x_batch,y_batch)\n",
    "    if i%50==0:\n",
    "        pred = conv(x_batch)\n",
    "        acc = accuracy(pred,y_batch)\n",
    "        print(\"%f\"%(acc))"
   ]
  },
  {
   "cell_type": "code",
   "execution_count": null,
   "metadata": {},
   "outputs": [],
   "source": [
    "#训练完成后保存模型参数，避免下次以下时还要训练\n",
    "conv.save_weights('mannul_checkpoint')"
   ]
  },
  {
   "cell_type": "code",
   "execution_count": null,
   "metadata": {},
   "outputs": [],
   "source": [
    "#加载模型，这里可以将训练的代码注释掉了\n",
    "conv.load_weights('mannul_checkpoint')"
   ]
  },
  {
   "cell_type": "code",
   "execution_count": null,
   "metadata": {},
   "outputs": [],
   "source": [
    "#定义绘图函数\n",
    "Drawing = False  # 是否开始画图\n",
    "Start = (-1, -1)\n",
    "\n",
    "def mouse_event(event, x, y, flags, param):\n",
    "    global start, Drawing\n",
    "    # 左键按下：开始画图\n",
    "    if event == cv2.EVENT_LBUTTONDOWN:\n",
    "        Drawing = True\n",
    "        start = (x, y)\n",
    "    # 鼠标移动，画图\n",
    "    elif event == cv2.EVENT_MOUSEMOVE:\n",
    "        if Drawing:\n",
    "            cv2.circle(img, (x, y), 8, (random.randint(185,255)), -1)\n",
    "    # 左键释放：结束画图\n",
    "    elif event == cv2.EVENT_LBUTTONUP:\n",
    "        Drawing = False"
   ]
  },
  {
   "cell_type": "code",
   "execution_count": 10,
   "metadata": {},
   "outputs": [
    {
     "ename": "NameError",
     "evalue": "name 'mouse_event' is not defined",
     "output_type": "error",
     "traceback": [
      "\u001b[1;31m---------------------------------------------------------------------------\u001b[0m",
      "\u001b[1;31mNameError\u001b[0m                                 Traceback (most recent call last)",
      "\u001b[1;32m<ipython-input-10-c43b58f72b41>\u001b[0m in \u001b[0;36m<module>\u001b[1;34m\u001b[0m\n\u001b[0;32m      1\u001b[0m \u001b[0mimg\u001b[0m \u001b[1;33m=\u001b[0m \u001b[0mnp\u001b[0m\u001b[1;33m.\u001b[0m\u001b[0mzeros\u001b[0m\u001b[1;33m(\u001b[0m\u001b[1;33m(\u001b[0m\u001b[1;36m512\u001b[0m\u001b[1;33m,\u001b[0m \u001b[1;36m512\u001b[0m\u001b[1;33m,\u001b[0m \u001b[1;36m1\u001b[0m\u001b[1;33m)\u001b[0m\u001b[1;33m,\u001b[0m \u001b[0mnp\u001b[0m\u001b[1;33m.\u001b[0m\u001b[0muint8\u001b[0m\u001b[1;33m)\u001b[0m\u001b[1;33m\u001b[0m\u001b[1;33m\u001b[0m\u001b[0m\n\u001b[0;32m      2\u001b[0m \u001b[0mcv2\u001b[0m\u001b[1;33m.\u001b[0m\u001b[0mnamedWindow\u001b[0m\u001b[1;33m(\u001b[0m\u001b[1;34m'image'\u001b[0m\u001b[1;33m)\u001b[0m\u001b[1;33m\u001b[0m\u001b[1;33m\u001b[0m\u001b[0m\n\u001b[1;32m----> 3\u001b[1;33m \u001b[0mcv2\u001b[0m\u001b[1;33m.\u001b[0m\u001b[0msetMouseCallback\u001b[0m\u001b[1;33m(\u001b[0m\u001b[1;34m'image'\u001b[0m\u001b[1;33m,\u001b[0m \u001b[0mmouse_event\u001b[0m\u001b[1;33m)\u001b[0m\u001b[1;33m\u001b[0m\u001b[1;33m\u001b[0m\u001b[0m\n\u001b[0m\u001b[0;32m      4\u001b[0m \u001b[1;33m\u001b[0m\u001b[0m\n\u001b[0;32m      5\u001b[0m \u001b[1;32mwhile\u001b[0m\u001b[1;33m(\u001b[0m\u001b[1;32mTrue\u001b[0m\u001b[1;33m)\u001b[0m\u001b[1;33m:\u001b[0m\u001b[1;33m\u001b[0m\u001b[1;33m\u001b[0m\u001b[0m\n",
      "\u001b[1;31mNameError\u001b[0m: name 'mouse_event' is not defined"
     ]
    }
   ],
   "source": [
    "img = np.zeros((512, 512, 1), np.uint8)\n",
    "cv2.namedWindow('image')\n",
    "cv2.setMouseCallback('image', mouse_event)\n",
    "\n",
    "while(True):\n",
    "    temp = img.copy()      #将temp送入训练好的模型中\n",
    "    a = temp[:400,:400]\n",
    "    cv2.imshow('a',cv2.resize(a,(28,28)))\n",
    "    temp = temp.astype(np.float32)\n",
    "    temp = cv2.resize(temp[:400,:400],(28,28))\n",
    "    temp = np.reshape(temp,[1,784])\n",
    "\n",
    "    pred = conv(temp, is_training=False)\n",
    "    b = np.argmax(pred.numpy())\n",
    "\n",
    "    cv2.imshow('image', img)\n",
    "    # 按下a撤销之前所画的图像，并打印预测值\n",
    "    if cv2.waitKey(1) == ord('a'):\n",
    "        img = np.zeros((512, 512, 1), np.uint8)\n",
    "\n",
    "        cv2.putText(img, str(\"pred:\"+str(b)), (40, 450), cv2.FONT_HERSHEY_COMPLEX, 2.0, (100, 200, 200), 2)\n",
    "    elif cv2.waitKey(1) == 27:\n",
    "        break"
   ]
  }
 ],
 "metadata": {
  "kernelspec": {
   "display_name": "Python 3",
   "language": "python",
   "name": "python3"
  },
  "language_info": {
   "codemirror_mode": {
    "name": "ipython",
    "version": 3
   },
   "file_extension": ".py",
   "mimetype": "text/x-python",
   "name": "python",
   "nbconvert_exporter": "python",
   "pygments_lexer": "ipython3",
   "version": "3.6.7"
  }
 },
 "nbformat": 4,
 "nbformat_minor": 2
}
